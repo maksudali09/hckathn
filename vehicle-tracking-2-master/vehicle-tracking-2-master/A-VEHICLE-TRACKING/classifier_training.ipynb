{
 "cells": [
  {
   "cell_type": "code",
   "execution_count": 8,
   "metadata": {
    "collapsed": false
   },
   "outputs": [
    {
     "ename": "ImportError",
     "evalue": "cannot import name 'imread' from 'scipy.misc' (c:\\Users\\ASUS\\AppData\\Local\\Programs\\Python\\Python311\\Lib\\site-packages\\scipy\\misc\\__init__.py)",
     "output_type": "error",
     "traceback": [
      "\u001b[1;31m---------------------------------------------------------------------------\u001b[0m",
      "\u001b[1;31mImportError\u001b[0m                               Traceback (most recent call last)",
      "Cell \u001b[1;32mIn[8], line 5\u001b[0m\n\u001b[0;32m      3\u001b[0m \u001b[39mfrom\u001b[39;00m \u001b[39msklearn\u001b[39;00m\u001b[39m.\u001b[39;00m\u001b[39mmodel_selection\u001b[39;00m \u001b[39mimport\u001b[39;00m train_test_split\n\u001b[0;32m      4\u001b[0m \u001b[39mfrom\u001b[39;00m \u001b[39mskimage\u001b[39;00m\u001b[39m.\u001b[39;00m\u001b[39mfeature\u001b[39;00m \u001b[39mimport\u001b[39;00m hog\n\u001b[1;32m----> 5\u001b[0m \u001b[39mfrom\u001b[39;00m \u001b[39mscipy\u001b[39;00m\u001b[39m.\u001b[39;00m\u001b[39mmisc\u001b[39;00m \u001b[39mimport\u001b[39;00m imread\n\u001b[0;32m      6\u001b[0m \u001b[39mfrom\u001b[39;00m \u001b[39msklearn\u001b[39;00m\u001b[39m.\u001b[39;00m\u001b[39mexternals\u001b[39;00m \u001b[39mimport\u001b[39;00m joblib\n\u001b[0;32m      7\u001b[0m \u001b[39mimport\u001b[39;00m \u001b[39mPIL\u001b[39;00m\n",
      "\u001b[1;31mImportError\u001b[0m: cannot import name 'imread' from 'scipy.misc' (c:\\Users\\ASUS\\AppData\\Local\\Programs\\Python\\Python311\\Lib\\site-packages\\scipy\\misc\\__init__.py)"
     ]
    }
   ],
   "source": [
    "from sklearn.svm import LinearSVC\n",
    "from sklearn.preprocessing import StandardScaler\n",
    "from sklearn.model_selection import train_test_split\n",
    "from skimage.feature import hog\n",
    "from scipy.misc import imread\n",
    "from sklearn.externals import joblib\n",
    "import PIL\n",
    "import imageio\n",
    "\n",
    "import random as rand\n",
    "import numpy as np \n",
    "import cv2\n",
    "import glob\n",
    "import time\n",
    "\n",
    "import matplotlib.pyplot as plt\n",
    "%matplotlib inline\n",
    "\n",
    "from helpers import convert, show_images\n",
    "from featuresourcer import FeatureSourcer\n"
   ]
  },
  {
   "cell_type": "code",
   "execution_count": 10,
   "metadata": {
    "collapsed": false
   },
   "outputs": [
    {
     "ename": "NameError",
     "evalue": "name 'imageio' is not defined",
     "output_type": "error",
     "traceback": [
      "\u001b[1;31m---------------------------------------------------------------------------\u001b[0m",
      "\u001b[1;31mNameError\u001b[0m                                 Traceback (most recent call last)",
      "Cell \u001b[1;32mIn[10], line 10\u001b[0m\n\u001b[0;32m      1\u001b[0m sourcer_params \u001b[39m=\u001b[39m {\n\u001b[0;32m      2\u001b[0m   \u001b[39m'\u001b[39m\u001b[39mcolor_model\u001b[39m\u001b[39m'\u001b[39m: \u001b[39m'\u001b[39m\u001b[39mhls\u001b[39m\u001b[39m'\u001b[39m,                \u001b[39m# HSL, HSV\u001b[39;00m\n\u001b[0;32m      3\u001b[0m   \u001b[39m'\u001b[39m\u001b[39mbounding_box_size\u001b[39m\u001b[39m'\u001b[39m: \u001b[39m64\u001b[39m,             \u001b[39m#\u001b[39;00m\n\u001b[1;32m   (...)\u001b[0m\n\u001b[0;32m      7\u001b[0m   \u001b[39m'\u001b[39m\u001b[39mdo_transform_sqrt\u001b[39m\u001b[39m'\u001b[39m: \u001b[39mTrue\u001b[39;00m\n\u001b[0;32m      8\u001b[0m }\n\u001b[1;32m---> 10\u001b[0m start_frame \u001b[39m=\u001b[39mimageio\u001b[39m.\u001b[39mimread(\u001b[39m\"\u001b[39m\u001b[39mvehicles/KITTI_extracted/5364.png\u001b[39m\u001b[39m\"\u001b[39m)\n\u001b[0;32m     11\u001b[0m sourcer \u001b[39m=\u001b[39m FeatureSourcer(sourcer_params, start_frame)\n",
      "\u001b[1;31mNameError\u001b[0m: name 'imageio' is not defined"
     ]
    }
   ],
   "source": [
    "sourcer_params = {\n",
    "  'color_model': 'hls',                # HSL, HSV\n",
    "  'bounding_box_size': 64,             #\n",
    "  'number_of_orientations': 12,        # 6 - 12\n",
    "  'pixels_per_cell': 8,                # 8, 16\n",
    "  'cells_per_block': 2,                # 1, 2\n",
    "  'do_transform_sqrt': True\n",
    "}\n",
    "\n",
    "start_frame =imread(\"vehicles/KITTI_extracted/5364.png\")\n",
    "sourcer = FeatureSourcer(sourcer_params, start_frame)"
   ]
  },
  {
   "cell_type": "code",
   "execution_count": 3,
   "metadata": {
    "collapsed": false
   },
   "outputs": [
    {
     "name": "stdout",
     "output_type": "stream",
     "text": [
      "Loading images to memory...\n"
     ]
    },
    {
     "ename": "NameError",
     "evalue": "name 'time' is not defined",
     "output_type": "error",
     "traceback": [
      "\u001b[1;31m---------------------------------------------------------------------------\u001b[0m",
      "\u001b[1;31mNameError\u001b[0m                                 Traceback (most recent call last)",
      "Cell \u001b[1;32mIn[3], line 2\u001b[0m\n\u001b[0;32m      1\u001b[0m \u001b[39mprint\u001b[39m(\u001b[39m\"\u001b[39m\u001b[39mLoading images to memory...\u001b[39m\u001b[39m\"\u001b[39m)\n\u001b[1;32m----> 2\u001b[0m t_start \u001b[39m=\u001b[39m time\u001b[39m.\u001b[39mtime()\n\u001b[0;32m      4\u001b[0m vehicle_imgs, nonvehicle_imgs \u001b[39m=\u001b[39m [], []\n\u001b[0;32m      5\u001b[0m vehicle_paths \u001b[39m=\u001b[39m glob\u001b[39m.\u001b[39mglob(\u001b[39m'\u001b[39m\u001b[39mvehicles/*/*.png\u001b[39m\u001b[39m'\u001b[39m)\n",
      "\u001b[1;31mNameError\u001b[0m: name 'time' is not defined"
     ]
    }
   ],
   "source": [
    "print(\"Loading images to memory...\")\n",
    "t_start = time.time()\n",
    "\n",
    "vehicle_imgs, nonvehicle_imgs = [], []\n",
    "vehicle_paths = glob.glob('vehicles/*/*.png')\n",
    "nonvehicle_paths = glob.glob('non-vehicles/*/*.png')\n",
    "\n",
    "for path in vehicle_paths: vehicle_imgs.append(imread(path))\n",
    "for path in nonvehicle_paths: nonvehicle_imgs.append(imread(path))\n",
    "\n",
    "vehicle_imgs, nonvehicle_imgs = np.asarray(vehicle_imgs), np.asarray(nonvehicle_imgs)\n",
    "total_vehicles, total_nonvehicles = vehicle_imgs.shape[0], nonvehicle_imgs.shape[0]\n",
    "\n",
    "print(\"... Done\")\n",
    "print(\"Time Taken:\", np.round(time.time() - t_start, 2))\n",
    "print(\"Vehicle images shape: \", vehicle_imgs.shape)\n",
    "print(\"Non-vehicle images shape: \", nonvehicle_imgs.shape)\n",
    "\n",
    "print(\"Extracting features... This might take a while...\")\n",
    "t_start = time.time()\n",
    "\n",
    "vehicles_features, nonvehicles_features = [], []\n",
    "\n",
    "print(\"Vehicles...\")\n",
    "for img in vehicle_imgs:\n",
    "  vehicles_features.append(sourcer.features(img))\n",
    "  print('█', end = '')\n",
    "\n",
    "print()\n",
    "print(\"Non-Vehicles...\")\n",
    "for img in nonvehicle_imgs:\n",
    "  nonvehicles_features.append(sourcer.features(img))\n",
    "  print('█', end = '')\n",
    "                         \n",
    "vehicles_features = np.asarray(vehicles_features)\n",
    "nonvehicles_features = np.asarray(nonvehicles_features)\n",
    "\n",
    "print()\n",
    "print(\"...Done\")\n",
    "print(\"Time Taken:\", np.round(time.time() - t_start, 2))\n",
    "print(\"Vehicles features shape: \", vehicles_features.shape)\n",
    "print(\"Non-vehicles features shape: \", nonvehicles_features.shape)\n",
    "\n",
    "print(\"Scaling features...\")\n",
    "t_start = time.time()\n",
    "\n",
    "unscaled_x = np.vstack((vehicles_features, nonvehicles_features)).astype(np.float64)\n",
    "scaler = StandardScaler().fit(unscaled_x)\n",
    "x = scaler.transform(unscaled_x)\n",
    "y = np.hstack((np.ones(total_vehicles), np.zeros(total_nonvehicles)))\n",
    "\n",
    "print(\"...Done\")\n",
    "print(\"Time Taken:\", np.round(time.time() - t_start, 2))\n",
    "print(\" x shape: \", x.shape, \" y shape: \", y.shape)\n",
    "\n",
    "print(\"Training classifier...\")\n",
    "t_start = time.time()\n",
    "\n",
    "x_train, x_test, y_train, y_test = train_test_split(x, y, test_size = 0.2,\n",
    "                                                    random_state = rand.randint(1, 100))\n",
    "svc = LinearSVC()\n",
    "svc.fit(x_train, y_train)\n",
    "accuracy = svc.score(x_test, y_test)\n",
    "\n",
    "print(\"...Done\")\n",
    "print(\"Time Taken:\", np.round(time.time() - t_start, 2))\n",
    "print(\"Accuracy: \", np.round(accuracy, 4))"
   ]
  },
  {
   "cell_type": "code",
   "execution_count": 4,
   "metadata": {
    "collapsed": false
   },
   "outputs": [
    {
     "name": "stdout",
     "output_type": "stream",
     "text": [
      "[ 0.  1.  1.  0.]\n"
     ]
    }
   ],
   "source": [
    "sourcer = FeatureSourcer(sourcer_params, start_frame)\n",
    "\n",
    "f1 = sourcer.features(nonvehicle_imgs[rand.randint(0, total_nonvehicles)])\n",
    "f2 = sourcer.features(vehicle_imgs[rand.randint(0, total_vehicles)])\n",
    "f3 = sourcer.features(vehicle_imgs[rand.randint(0, total_vehicles)])\n",
    "f4 = sourcer.features(nonvehicle_imgs[rand.randint(0, total_nonvehicles)])\n",
    "\n",
    "f = scaler.transform([f1, f2, f3, f4])\n",
    "print(svc.predict(f))"
   ]
  },
  {
   "cell_type": "code",
   "execution_count": 5,
   "metadata": {
    "collapsed": false
   },
   "outputs": [
    {
     "name": "stdout",
     "output_type": "stream",
     "text": [
      "Saving models...\n",
      "...Done\n"
     ]
    }
   ],
   "source": [
    "print (\"Saving models...\")\n",
    "\n",
    "joblib.dump(svc, 'svc2.pkl')\n",
    "joblib.dump(scaler, 'scaler2.pkl')\n",
    "\n",
    "print(\"...Done\")"
   ]
  },
  {
   "cell_type": "code",
   "execution_count": 6,
   "metadata": {
    "collapsed": false
   },
   "outputs": [
    {
     "name": "stdout",
     "output_type": "stream",
     "text": [
      "Loading models...\n",
      "...Done\n"
     ]
    }
   ],
   "source": [
    "print (\"Loading models...\")\n",
    "\n",
    "svc = joblib.load('svc2.pkl')\n",
    "scaler = joblib.load('scaler2.pkl')\n",
    "\n",
    "print(\"...Done\")"
   ]
  },
  {
   "cell_type": "code",
   "execution_count": 4,
   "metadata": {
    "collapsed": false
   },
   "outputs": [
    {
     "ename": "NameError",
     "evalue": "name 'FeatureSourcer' is not defined",
     "output_type": "error",
     "traceback": [
      "\u001b[1;31m---------------------------------------------------------------------------\u001b[0m",
      "\u001b[1;31mNameError\u001b[0m                                 Traceback (most recent call last)",
      "Cell \u001b[1;32mIn[4], line 1\u001b[0m\n\u001b[1;32m----> 1\u001b[0m sourcer \u001b[39m=\u001b[39m FeatureSourcer(sourcer_params, start_frame)\n\u001b[0;32m      3\u001b[0m f1 \u001b[39m=\u001b[39m sourcer\u001b[39m.\u001b[39mfeatures(nonvehicle_imgs[rand\u001b[39m.\u001b[39mrandint(\u001b[39m0\u001b[39m, total_nonvehicles)])\n\u001b[0;32m      4\u001b[0m f2 \u001b[39m=\u001b[39m sourcer\u001b[39m.\u001b[39mfeatures(vehicle_imgs[rand\u001b[39m.\u001b[39mrandint(\u001b[39m0\u001b[39m, total_vehicles)])\n",
      "\u001b[1;31mNameError\u001b[0m: name 'FeatureSourcer' is not defined"
     ]
    }
   ],
   "source": [
    "sourcer = FeatureSourcer(sourcer_params, start_frame)\n",
    "\n",
    "f1 = sourcer.features(nonvehicle_imgs[rand.randint(0, total_nonvehicles)])\n",
    "f2 = sourcer.features(vehicle_imgs[rand.randint(0, total_vehicles)])\n",
    "f3 = sourcer.features(vehicle_imgs[rand.randint(0, total_vehicles)])\n",
    "f4 = sourcer.features(nonvehicle_imgs[rand.randint(0, total_nonvehicles)])\n",
    "\n",
    "f = scaler.transform([f1, f2, f3, f4])\n",
    "print(svc.predict(f))"
   ]
  }
 ],
 "metadata": {
  "kernelspec": {
   "display_name": "Python 3",
   "language": "python",
   "name": "python3"
  },
  "language_info": {
   "codemirror_mode": {
    "name": "ipython",
    "version": 3
   },
   "file_extension": ".py",
   "mimetype": "text/x-python",
   "name": "python",
   "nbconvert_exporter": "python",
   "pygments_lexer": "ipython3",
   "version": "3.11.4"
  },
  "widgets": {
   "state": {},
   "version": "1.1.2"
  }
 },
 "nbformat": 4,
 "nbformat_minor": 2
}
